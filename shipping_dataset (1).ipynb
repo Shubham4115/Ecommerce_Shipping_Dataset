{
 "cells": [
  {
   "cell_type": "markdown",
   "id": "1aadccf3",
   "metadata": {},
   "source": [
    "# E-Commerce Data Set\n",
    "### An international e-commerce company based wants to discover key insights from their customer database. They want to use some of the most advanced machine learning techniques to study their customers. The company sells electronic products.\n",
    "\n",
    "#### The dataset used for model building contained 10999 observations of 12 variables.\n",
    "The data contains the following information:\n",
    "\n",
    "•\tID: ID Number of Customers.\n",
    "•\tWarehouse block: The Company have big Warehouse which is divided in to block such as A,B,C,D,E.\n",
    "\n",
    "•\tMode of shipment: The Company Ships the products in multiple way such as Ship, Flight and Road.\n",
    "\n",
    "•\tCustomer care calls: The number of calls made from enquiry for enquiry of the shipment.\n",
    "\n",
    "•\tCustomer rating: The company has rated from every customer. 1 is the lowest (Worst), 5 is the highest (Best).\n",
    "\n",
    "•\tCost of the product: Cost of the Product in US Dollars.\n",
    "\n",
    "•\tPrior purchases: The Number of Prior Purchase.\n",
    "\n",
    "•\tProduct importance: The company has categorized the product in the various parameter such as low, medium, high.\n",
    "\n",
    "•\tGender: Male and Female.\n",
    "\n",
    "•\tDiscount offered: Discount offered on that specific product.\n",
    "\n",
    "•\tWeight in grams: It is the weight in grams.\n",
    "\n",
    "•\tReached on time: It is the target variable, where 1 Indicates that the product has NOT reached on time and 0 indicates it has reached on time\n"
   ]
  },
  {
   "cell_type": "markdown",
   "id": "56c19879",
   "metadata": {},
   "source": [
    "# First import the libraries"
   ]
  },
  {
   "cell_type": "code",
   "execution_count": 65,
   "id": "8ad944fd",
   "metadata": {},
   "outputs": [],
   "source": [
    "import pandas  as pd\n",
    "import numpy as np\n",
    "import seaborn as sns\n",
    "import matplotlib.pyplot as plt\n",
    "%matplotlib inline\n",
    "from pandas_profiling import ProfileReport\n",
    "from sklearn.preprocessing import OneHotEncoder\n",
    "from sklearn.feature_selection import SelectKBest\n",
    "from sklearn.feature_selection import chi2\n",
    "from sklearn.linear_model import LogisticRegression #Logistic Regression is a Machine Learning classification algorithm\n",
    "from sklearn.linear_model import LinearRegression #Linear Regression is a Machine Learning classification algorithm\n",
    "from sklearn.model_selection import train_test_split #Splitting of Dataset\n",
    "from sklearn.metrics import classification_report \n",
    "from sklearn.metrics import confusion_matrix\n",
    "from sklearn.metrics import r2_score\n",
    "from sklearn.metrics import accuracy_score"
   ]
  },
  {
   "cell_type": "markdown",
   "id": "41808745",
   "metadata": {},
   "source": [
    "# Load  the dataset"
   ]
  },
  {
   "cell_type": "code",
   "execution_count": 2,
   "id": "c2e149eb",
   "metadata": {},
   "outputs": [],
   "source": [
    "df=pd.read_csv(\"D:\\E-Commerce Data Set-Capston Project\\Train.csv\")"
   ]
  },
  {
   "cell_type": "markdown",
   "id": "5ad7c589",
   "metadata": {},
   "source": [
    "# Display first 5 rows of the dataset "
   ]
  },
  {
   "cell_type": "code",
   "execution_count": 3,
   "id": "93dec99d",
   "metadata": {},
   "outputs": [
    {
     "data": {
      "text/html": [
       "<div>\n",
       "<style scoped>\n",
       "    .dataframe tbody tr th:only-of-type {\n",
       "        vertical-align: middle;\n",
       "    }\n",
       "\n",
       "    .dataframe tbody tr th {\n",
       "        vertical-align: top;\n",
       "    }\n",
       "\n",
       "    .dataframe thead th {\n",
       "        text-align: right;\n",
       "    }\n",
       "</style>\n",
       "<table border=\"1\" class=\"dataframe\">\n",
       "  <thead>\n",
       "    <tr style=\"text-align: right;\">\n",
       "      <th></th>\n",
       "      <th>ID</th>\n",
       "      <th>Warehouse_block</th>\n",
       "      <th>Mode_of_Shipment</th>\n",
       "      <th>Customer_care_calls</th>\n",
       "      <th>Customer_rating</th>\n",
       "      <th>Cost_of_the_Product</th>\n",
       "      <th>Prior_purchases</th>\n",
       "      <th>Product_importance</th>\n",
       "      <th>Gender</th>\n",
       "      <th>Discount_offered</th>\n",
       "      <th>Weight_in_gms</th>\n",
       "      <th>Reached.on.Time_Y.N</th>\n",
       "    </tr>\n",
       "  </thead>\n",
       "  <tbody>\n",
       "    <tr>\n",
       "      <th>0</th>\n",
       "      <td>1</td>\n",
       "      <td>D</td>\n",
       "      <td>Flight</td>\n",
       "      <td>4</td>\n",
       "      <td>2</td>\n",
       "      <td>177</td>\n",
       "      <td>3</td>\n",
       "      <td>low</td>\n",
       "      <td>F</td>\n",
       "      <td>44</td>\n",
       "      <td>1233</td>\n",
       "      <td>1</td>\n",
       "    </tr>\n",
       "    <tr>\n",
       "      <th>1</th>\n",
       "      <td>2</td>\n",
       "      <td>F</td>\n",
       "      <td>Flight</td>\n",
       "      <td>4</td>\n",
       "      <td>5</td>\n",
       "      <td>216</td>\n",
       "      <td>2</td>\n",
       "      <td>low</td>\n",
       "      <td>M</td>\n",
       "      <td>59</td>\n",
       "      <td>3088</td>\n",
       "      <td>1</td>\n",
       "    </tr>\n",
       "    <tr>\n",
       "      <th>2</th>\n",
       "      <td>3</td>\n",
       "      <td>A</td>\n",
       "      <td>Flight</td>\n",
       "      <td>2</td>\n",
       "      <td>2</td>\n",
       "      <td>183</td>\n",
       "      <td>4</td>\n",
       "      <td>low</td>\n",
       "      <td>M</td>\n",
       "      <td>48</td>\n",
       "      <td>3374</td>\n",
       "      <td>1</td>\n",
       "    </tr>\n",
       "    <tr>\n",
       "      <th>3</th>\n",
       "      <td>4</td>\n",
       "      <td>B</td>\n",
       "      <td>Flight</td>\n",
       "      <td>3</td>\n",
       "      <td>3</td>\n",
       "      <td>176</td>\n",
       "      <td>4</td>\n",
       "      <td>medium</td>\n",
       "      <td>M</td>\n",
       "      <td>10</td>\n",
       "      <td>1177</td>\n",
       "      <td>1</td>\n",
       "    </tr>\n",
       "    <tr>\n",
       "      <th>4</th>\n",
       "      <td>5</td>\n",
       "      <td>C</td>\n",
       "      <td>Flight</td>\n",
       "      <td>2</td>\n",
       "      <td>2</td>\n",
       "      <td>184</td>\n",
       "      <td>3</td>\n",
       "      <td>medium</td>\n",
       "      <td>F</td>\n",
       "      <td>46</td>\n",
       "      <td>2484</td>\n",
       "      <td>1</td>\n",
       "    </tr>\n",
       "  </tbody>\n",
       "</table>\n",
       "</div>"
      ],
      "text/plain": [
       "   ID Warehouse_block Mode_of_Shipment  Customer_care_calls  Customer_rating  \\\n",
       "0   1               D           Flight                    4                2   \n",
       "1   2               F           Flight                    4                5   \n",
       "2   3               A           Flight                    2                2   \n",
       "3   4               B           Flight                    3                3   \n",
       "4   5               C           Flight                    2                2   \n",
       "\n",
       "   Cost_of_the_Product  Prior_purchases Product_importance Gender  \\\n",
       "0                  177                3                low      F   \n",
       "1                  216                2                low      M   \n",
       "2                  183                4                low      M   \n",
       "3                  176                4             medium      M   \n",
       "4                  184                3             medium      F   \n",
       "\n",
       "   Discount_offered  Weight_in_gms  Reached.on.Time_Y.N  \n",
       "0                44           1233                    1  \n",
       "1                59           3088                    1  \n",
       "2                48           3374                    1  \n",
       "3                10           1177                    1  \n",
       "4                46           2484                    1  "
      ]
     },
     "execution_count": 3,
     "metadata": {},
     "output_type": "execute_result"
    }
   ],
   "source": [
    "df.head()"
   ]
  },
  {
   "cell_type": "code",
   "execution_count": 66,
   "id": "fc9ea1f1",
   "metadata": {},
   "outputs": [
    {
     "data": {
      "image/png": "[encoded data removed]",
      "text/plain": [
       "<Figure size 1800x720 with 3 Axes>"
      ]
     },
     "metadata": {
      "needs_background": "light"
     },
     "output_type": "display_data"
    }
   ],
   "source": [
    "import missingno as msno\n",
    "msno.bar(df, color = 'lightblue')\n",
    "plt.title('Checking for Null Values\\n', fontsize = 40)\n",
    "plt.show()\n"
   ]
  },
  {
   "cell_type": "markdown",
   "id": "95b0e56a",
   "metadata": {},
   "source": [
    "### There is no missing values present in the dataset."
   ]
  },
  {
   "cell_type": "markdown",
   "id": "ecf9ada6",
   "metadata": {},
   "source": [
    "# Display last 5 rows of the dataset"
   ]
  },
  {
   "cell_type": "code",
   "execution_count": 5,
   "id": "cf758fef",
   "metadata": {},
   "outputs": [
    {
     "data": {
      "text/html": [
       "<div>\n",
       "<style scoped>\n",
       "    .dataframe tbody tr th:only-of-type {\n",
       "        vertical-align: middle;\n",
       "    }\n",
       "\n",
       "    .dataframe tbody tr th {\n",
       "        vertical-align: top;\n",
       "    }\n",
       "\n",
       "    .dataframe thead th {\n",
       "        text-align: right;\n",
       "    }\n",
       "</style>\n",
       "<table border=\"1\" class=\"dataframe\">\n",
       "  <thead>\n",
       "    <tr style=\"text-align: right;\">\n",
       "      <th></th>\n",
       "      <th>ID</th>\n",
       "      <th>Warehouse_block</th>\n",
       "      <th>Mode_of_Shipment</th>\n",
       "      <th>Customer_care_calls</th>\n",
       "      <th>Customer_rating</th>\n",
       "      <th>Cost_of_the_Product</th>\n",
       "      <th>Prior_purchases</th>\n",
       "      <th>Product_importance</th>\n",
       "      <th>Gender</th>\n",
       "      <th>Discount_offered</th>\n",
       "      <th>Weight_in_gms</th>\n",
       "      <th>Reached.on.Time_Y.N</th>\n",
       "    </tr>\n",
       "  </thead>\n",
       "  <tbody>\n",
       "    <tr>\n",
       "      <th>10994</th>\n",
       "      <td>10995</td>\n",
       "      <td>A</td>\n",
       "      <td>Ship</td>\n",
       "      <td>4</td>\n",
       "      <td>1</td>\n",
       "      <td>252</td>\n",
       "      <td>5</td>\n",
       "      <td>medium</td>\n",
       "      <td>F</td>\n",
       "      <td>1</td>\n",
       "      <td>1538</td>\n",
       "      <td>1</td>\n",
       "    </tr>\n",
       "    <tr>\n",
       "      <th>10995</th>\n",
       "      <td>10996</td>\n",
       "      <td>B</td>\n",
       "      <td>Ship</td>\n",
       "      <td>4</td>\n",
       "      <td>1</td>\n",
       "      <td>232</td>\n",
       "      <td>5</td>\n",
       "      <td>medium</td>\n",
       "      <td>F</td>\n",
       "      <td>6</td>\n",
       "      <td>1247</td>\n",
       "      <td>0</td>\n",
       "    </tr>\n",
       "    <tr>\n",
       "      <th>10996</th>\n",
       "      <td>10997</td>\n",
       "      <td>C</td>\n",
       "      <td>Ship</td>\n",
       "      <td>5</td>\n",
       "      <td>4</td>\n",
       "      <td>242</td>\n",
       "      <td>5</td>\n",
       "      <td>low</td>\n",
       "      <td>F</td>\n",
       "      <td>4</td>\n",
       "      <td>1155</td>\n",
       "      <td>0</td>\n",
       "    </tr>\n",
       "    <tr>\n",
       "      <th>10997</th>\n",
       "      <td>10998</td>\n",
       "      <td>F</td>\n",
       "      <td>Ship</td>\n",
       "      <td>5</td>\n",
       "      <td>2</td>\n",
       "      <td>223</td>\n",
       "      <td>6</td>\n",
       "      <td>medium</td>\n",
       "      <td>M</td>\n",
       "      <td>2</td>\n",
       "      <td>1210</td>\n",
       "      <td>0</td>\n",
       "    </tr>\n",
       "    <tr>\n",
       "      <th>10998</th>\n",
       "      <td>10999</td>\n",
       "      <td>D</td>\n",
       "      <td>Ship</td>\n",
       "      <td>2</td>\n",
       "      <td>5</td>\n",
       "      <td>155</td>\n",
       "      <td>5</td>\n",
       "      <td>low</td>\n",
       "      <td>F</td>\n",
       "      <td>6</td>\n",
       "      <td>1639</td>\n",
       "      <td>0</td>\n",
       "    </tr>\n",
       "  </tbody>\n",
       "</table>\n",
       "</div>"
      ],
      "text/plain": [
       "          ID Warehouse_block Mode_of_Shipment  Customer_care_calls  \\\n",
       "10994  10995               A             Ship                    4   \n",
       "10995  10996               B             Ship                    4   \n",
       "10996  10997               C             Ship                    5   \n",
       "10997  10998               F             Ship                    5   \n",
       "10998  10999               D             Ship                    2   \n",
       "\n",
       "       Customer_rating  Cost_of_the_Product  Prior_purchases  \\\n",
       "10994                1                  252                5   \n",
       "10995                1                  232                5   \n",
       "10996                4                  242                5   \n",
       "10997                2                  223                6   \n",
       "10998                5                  155                5   \n",
       "\n",
       "      Product_importance Gender  Discount_offered  Weight_in_gms  \\\n",
       "10994             medium      F                 1           1538   \n",
       "10995             medium      F                 6           1247   \n",
       "10996                low      F                 4           1155   \n",
       "10997             medium      M                 2           1210   \n",
       "10998                low      F                 6           1639   \n",
       "\n",
       "       Reached.on.Time_Y.N  \n",
       "10994                    1  \n",
       "10995                    0  \n",
       "10996                    0  \n",
       "10997                    0  \n",
       "10998                    0  "
      ]
     },
     "execution_count": 5,
     "metadata": {},
     "output_type": "execute_result"
    }
   ],
   "source": [
    "df.tail()"
   ]
  },
  {
   "cell_type": "markdown",
   "id": "377c4bfe",
   "metadata": {},
   "source": [
    "# Display variable name and their datatypes"
   ]
  },
  {
   "cell_type": "code",
   "execution_count": 6,
   "id": "d6a13e31",
   "metadata": {},
   "outputs": [
    {
     "data": {
      "text/plain": [
       "ID                      int64\n",
       "Warehouse_block        object\n",
       "Mode_of_Shipment       object\n",
       "Customer_care_calls     int64\n",
       "Customer_rating         int64\n",
       "Cost_of_the_Product     int64\n",
       "Prior_purchases         int64\n",
       "Product_importance     object\n",
       "Gender                 object\n",
       "Discount_offered        int64\n",
       "Weight_in_gms           int64\n",
       "Reached.on.Time_Y.N     int64\n",
       "dtype: object"
      ]
     },
     "execution_count": 6,
     "metadata": {},
     "output_type": "execute_result"
    }
   ],
   "source": [
    "df.dtypes"
   ]
  },
  {
   "cell_type": "markdown",
   "id": "099f75f8",
   "metadata": {},
   "source": [
    "# Count non-Null values"
   ]
  },
  {
   "cell_type": "code",
   "execution_count": 7,
   "id": "89094086",
   "metadata": {},
   "outputs": [
    {
     "name": "stdout",
     "output_type": "stream",
     "text": [
      "<class 'pandas.core.frame.DataFrame'>\n",
      "RangeIndex: 10999 entries, 0 to 10998\n",
      "Data columns (total 12 columns):\n",
      " #   Column               Non-Null Count  Dtype \n",
      "---  ------               --------------  ----- \n",
      " 0   ID                   10999 non-null  int64 \n",
      " 1   Warehouse_block      10999 non-null  object\n",
      " 2   Mode_of_Shipment     10999 non-null  object\n",
      " 3   Customer_care_calls  10999 non-null  int64 \n",
      " 4   Customer_rating      10999 non-null  int64 \n",
      " 5   Cost_of_the_Product  10999 non-null  int64 \n",
      " 6   Prior_purchases      10999 non-null  int64 \n",
      " 7   Product_importance   10999 non-null  object\n",
      " 8   Gender               10999 non-null  object\n",
      " 9   Discount_offered     10999 non-null  int64 \n",
      " 10  Weight_in_gms        10999 non-null  int64 \n",
      " 11  Reached.on.Time_Y.N  10999 non-null  int64 \n",
      "dtypes: int64(8), object(4)\n",
      "memory usage: 1.0+ MB\n"
     ]
    }
   ],
   "source": [
    "df.info()"
   ]
  },
  {
   "cell_type": "markdown",
   "id": "a063d829",
   "metadata": {},
   "source": [
    "# Descriptive Statistics"
   ]
  },
  {
   "cell_type": "markdown",
   "id": "de151394",
   "metadata": {},
   "source": [
    "#### here we get info about data ( counts,mean,std,min, max,percentile)"
   ]
  },
  {
   "cell_type": "code",
   "execution_count": 8,
   "id": "092140ab",
   "metadata": {},
   "outputs": [
    {
     "data": {
      "text/html": [
       "<div>\n",
       "<style scoped>\n",
       "    .dataframe tbody tr th:only-of-type {\n",
       "        vertical-align: middle;\n",
       "    }\n",
       "\n",
       "    .dataframe tbody tr th {\n",
       "        vertical-align: top;\n",
       "    }\n",
       "\n",
       "    .dataframe thead th {\n",
       "        text-align: right;\n",
       "    }\n",
       "</style>\n",
       "<table border=\"1\" class=\"dataframe\">\n",
       "  <thead>\n",
       "    <tr style=\"text-align: right;\">\n",
       "      <th></th>\n",
       "      <th>ID</th>\n",
       "      <th>Customer_care_calls</th>\n",
       "      <th>Customer_rating</th>\n",
       "      <th>Cost_of_the_Product</th>\n",
       "      <th>Prior_purchases</th>\n",
       "      <th>Discount_offered</th>\n",
       "      <th>Weight_in_gms</th>\n",
       "      <th>Reached.on.Time_Y.N</th>\n",
       "    </tr>\n",
       "  </thead>\n",
       "  <tbody>\n",
       "    <tr>\n",
       "      <th>count</th>\n",
       "      <td>10999.00000</td>\n",
       "      <td>10999.000000</td>\n",
       "      <td>10999.000000</td>\n",
       "      <td>10999.000000</td>\n",
       "      <td>10999.000000</td>\n",
       "      <td>10999.000000</td>\n",
       "      <td>10999.000000</td>\n",
       "      <td>10999.000000</td>\n",
       "    </tr>\n",
       "    <tr>\n",
       "      <th>mean</th>\n",
       "      <td>5500.00000</td>\n",
       "      <td>4.054459</td>\n",
       "      <td>2.990545</td>\n",
       "      <td>210.196836</td>\n",
       "      <td>3.567597</td>\n",
       "      <td>13.373216</td>\n",
       "      <td>3634.016729</td>\n",
       "      <td>0.596691</td>\n",
       "    </tr>\n",
       "    <tr>\n",
       "      <th>std</th>\n",
       "      <td>3175.28214</td>\n",
       "      <td>1.141490</td>\n",
       "      <td>1.413603</td>\n",
       "      <td>48.063272</td>\n",
       "      <td>1.522860</td>\n",
       "      <td>16.205527</td>\n",
       "      <td>1635.377251</td>\n",
       "      <td>0.490584</td>\n",
       "    </tr>\n",
       "    <tr>\n",
       "      <th>min</th>\n",
       "      <td>1.00000</td>\n",
       "      <td>2.000000</td>\n",
       "      <td>1.000000</td>\n",
       "      <td>96.000000</td>\n",
       "      <td>2.000000</td>\n",
       "      <td>1.000000</td>\n",
       "      <td>1001.000000</td>\n",
       "      <td>0.000000</td>\n",
       "    </tr>\n",
       "    <tr>\n",
       "      <th>25%</th>\n",
       "      <td>2750.50000</td>\n",
       "      <td>3.000000</td>\n",
       "      <td>2.000000</td>\n",
       "      <td>169.000000</td>\n",
       "      <td>3.000000</td>\n",
       "      <td>4.000000</td>\n",
       "      <td>1839.500000</td>\n",
       "      <td>0.000000</td>\n",
       "    </tr>\n",
       "    <tr>\n",
       "      <th>50%</th>\n",
       "      <td>5500.00000</td>\n",
       "      <td>4.000000</td>\n",
       "      <td>3.000000</td>\n",
       "      <td>214.000000</td>\n",
       "      <td>3.000000</td>\n",
       "      <td>7.000000</td>\n",
       "      <td>4149.000000</td>\n",
       "      <td>1.000000</td>\n",
       "    </tr>\n",
       "    <tr>\n",
       "      <th>75%</th>\n",
       "      <td>8249.50000</td>\n",
       "      <td>5.000000</td>\n",
       "      <td>4.000000</td>\n",
       "      <td>251.000000</td>\n",
       "      <td>4.000000</td>\n",
       "      <td>10.000000</td>\n",
       "      <td>5050.000000</td>\n",
       "      <td>1.000000</td>\n",
       "    </tr>\n",
       "    <tr>\n",
       "      <th>max</th>\n",
       "      <td>10999.00000</td>\n",
       "      <td>7.000000</td>\n",
       "      <td>5.000000</td>\n",
       "      <td>310.000000</td>\n",
       "      <td>10.000000</td>\n",
       "      <td>65.000000</td>\n",
       "      <td>7846.000000</td>\n",
       "      <td>1.000000</td>\n",
       "    </tr>\n",
       "  </tbody>\n",
       "</table>\n",
       "</div>"
      ],
      "text/plain": [
       "                ID  Customer_care_calls  Customer_rating  Cost_of_the_Product  \\\n",
       "count  10999.00000         10999.000000     10999.000000         10999.000000   \n",
       "mean    5500.00000             4.054459         2.990545           210.196836   \n",
       "std     3175.28214             1.141490         1.413603            48.063272   \n",
       "min        1.00000             2.000000         1.000000            96.000000   \n",
       "25%     2750.50000             3.000000         2.000000           169.000000   \n",
       "50%     5500.00000             4.000000         3.000000           214.000000   \n",
       "75%     8249.50000             5.000000         4.000000           251.000000   \n",
       "max    10999.00000             7.000000         5.000000           310.000000   \n",
       "\n",
       "       Prior_purchases  Discount_offered  Weight_in_gms  Reached.on.Time_Y.N  \n",
       "count     10999.000000      10999.000000   10999.000000         10999.000000  \n",
       "mean          3.567597         13.373216    3634.016729             0.596691  \n",
       "std           1.522860         16.205527    1635.377251             0.490584  \n",
       "min           2.000000          1.000000    1001.000000             0.000000  \n",
       "25%           3.000000          4.000000    1839.500000             0.000000  \n",
       "50%           3.000000          7.000000    4149.000000             1.000000  \n",
       "75%           4.000000         10.000000    5050.000000             1.000000  \n",
       "max          10.000000         65.000000    7846.000000             1.000000  "
      ]
     },
     "execution_count": 8,
     "metadata": {},
     "output_type": "execute_result"
    }
   ],
   "source": [
    "df.describe()"
   ]
  },
  {
   "cell_type": "markdown",
   "id": "0fb0ed7d",
   "metadata": {},
   "source": [
    "# correlation "
   ]
  },
  {
   "cell_type": "code",
   "execution_count": 9,
   "id": "66d58cca",
   "metadata": {},
   "outputs": [
    {
     "data": {
      "text/plain": [
       "ID                    -0.411822\n",
       "Customer_care_calls   -0.067126\n",
       "Customer_rating        0.013119\n",
       "Cost_of_the_Product   -0.073587\n",
       "Prior_purchases       -0.055515\n",
       "Discount_offered       0.397108\n",
       "Weight_in_gms         -0.268793\n",
       "Reached.on.Time_Y.N    1.000000\n",
       "Name: Reached.on.Time_Y.N, dtype: float64"
      ]
     },
     "execution_count": 9,
     "metadata": {},
     "output_type": "execute_result"
    }
   ],
   "source": [
    "df.corr()['Reached.on.Time_Y.N']"
   ]
  },
  {
   "cell_type": "markdown",
   "id": "0e29cd97",
   "metadata": {},
   "source": [
    "# Handling Duplicate"
   ]
  },
  {
   "cell_type": "code",
   "execution_count": 10,
   "id": "8647c350",
   "metadata": {},
   "outputs": [
    {
     "data": {
      "text/plain": [
       "0        False\n",
       "1        False\n",
       "2        False\n",
       "3        False\n",
       "4        False\n",
       "         ...  \n",
       "10994    False\n",
       "10995    False\n",
       "10996    False\n",
       "10997    False\n",
       "10998    False\n",
       "Length: 10999, dtype: bool"
      ]
     },
     "execution_count": 10,
     "metadata": {},
     "output_type": "execute_result"
    }
   ],
   "source": [
    "df.duplicated()"
   ]
  },
  {
   "cell_type": "markdown",
   "id": "5df162cd",
   "metadata": {},
   "source": [
    "#### No duplicate value present in the dataset"
   ]
  },
  {
   "cell_type": "markdown",
   "id": "96d7e492",
   "metadata": {},
   "source": [
    "# Rename Column names"
   ]
  },
  {
   "cell_type": "code",
   "execution_count": 11,
   "id": "d997b58d",
   "metadata": {},
   "outputs": [],
   "source": [
    "df.rename(columns ={'Reached.on.Time_Y.N':'ON_TIME'},inplace=True) #rename column name"
   ]
  },
  {
   "cell_type": "markdown",
   "id": "68f40373",
   "metadata": {},
   "source": [
    "# Detect Outliers"
   ]
  },
  {
   "cell_type": "code",
   "execution_count": 12,
   "id": "a478899d",
   "metadata": {},
   "outputs": [],
   "source": [
    "P0=df.Cost_of_the_Product.min()\n",
    "P100=df.Cost_of_the_Product.max()\n",
    "q1=df.Cost_of_the_Product.quantile(.25)\n",
    "q2=df.Cost_of_the_Product.quantile(.5)\n",
    "q3=df.Cost_of_the_Product.quantile(.75)\n",
    "IQR=q3-q1\n",
    "LC=q1-1.5*IQR\n",
    "UC=q3+1.5*IQR"
   ]
  },
  {
   "cell_type": "code",
   "execution_count": 13,
   "id": "f6bb249e",
   "metadata": {},
   "outputs": [
    {
     "name": "stdout",
     "output_type": "stream",
     "text": [
      "P0= 96 P100= 310 q1= 169.0 q2= 214.0 q3= 251.0 IQR= 82.0 LC= 46.0 UC= 374.0\n"
     ]
    }
   ],
   "source": [
    "print('P0=',P0,'P100=',P100,'q1=',q1,'q2=',q2,'q3=',q3,'IQR=',IQR,'LC=',LC,'UC=',UC)"
   ]
  },
  {
   "cell_type": "code",
   "execution_count": 14,
   "id": "90816fed",
   "metadata": {},
   "outputs": [
    {
     "name": "stdout",
     "output_type": "stream",
     "text": [
      "No outlier on lower side\n",
      "No outliers on Higher side\n"
     ]
    }
   ],
   "source": [
    "if LC<P0:\n",
    "    print('No outlier on lower side')\n",
    "else:\n",
    "    print(\"outlier on lower side\")\n",
    "if UC>P100:\n",
    "    print('No outliers on Higher side')\n",
    "else:\n",
    "    print(\"outliers on Higher side\")"
   ]
  },
  {
   "cell_type": "markdown",
   "id": "9820f47f",
   "metadata": {},
   "source": [
    "#### No outliers present on higher side and lower side in cost column"
   ]
  },
  {
   "cell_type": "markdown",
   "id": "fe8833c9",
   "metadata": {},
   "source": [
    "# Drop unwanted columns"
   ]
  },
  {
   "cell_type": "code",
   "execution_count": 15,
   "id": "6fd492f1",
   "metadata": {},
   "outputs": [],
   "source": [
    "df.drop('ID', axis = 1, inplace = True) # drop id column from the dataset"
   ]
  },
  {
   "cell_type": "code",
   "execution_count": 67,
   "id": "c10cc7f0",
   "metadata": {},
   "outputs": [
    {
     "data": {
      "image/png": "[encoded data removed]",
      "text/plain": [
       "<Figure size 1440x1080 with 9 Axes>"
      ]
     },
     "metadata": {
      "needs_background": "light"
     },
     "output_type": "display_data"
    }
   ],
   "source": [
    "# Plot a histogram for each numerical attribute\n",
    "df.hist(bins=50, figsize=(20,15))\n",
    "plt.show()"
   ]
  },
  {
   "cell_type": "markdown",
   "id": "e857ab0e",
   "metadata": {},
   "source": [
    "# Univariate Analysis"
   ]
  },
  {
   "cell_type": "markdown",
   "id": "7c14843b",
   "metadata": {},
   "source": [
    "## Cost Column"
   ]
  },
  {
   "cell_type": "code",
   "execution_count": 68,
   "id": "ee243cc2",
   "metadata": {},
   "outputs": [
    {
     "data": {
      "image/png": "[encoded data removed]",
      "text/plain": [
       "<Figure size 432x288 with 1 Axes>"
      ]
     },
     "metadata": {
      "needs_background": "light"
     },
     "output_type": "display_data"
    }
   ],
   "source": [
    "df.Cost_of_the_Product.hist()\n",
    "plt.show()"
   ]
  },
  {
   "cell_type": "markdown",
   "id": "98c90458",
   "metadata": {},
   "source": [
    "### Most of the product cost lies between 140 to 280 and all cost lies between aprox 80 to 320"
   ]
  },
  {
   "cell_type": "markdown",
   "id": "e7275828",
   "metadata": {},
   "source": [
    "# Customer_care_calls column"
   ]
  },
  {
   "cell_type": "code",
   "execution_count": 69,
   "id": "2537b3f4",
   "metadata": {},
   "outputs": [
    {
     "data": {
      "text/plain": [
       "<function matplotlib.pyplot.show(close=None, block=None)>"
      ]
     },
     "execution_count": 69,
     "metadata": {},
     "output_type": "execute_result"
    },
    {
     "data": {
      "image/png": "[encoded data removed]",
      "text/plain": [
       "<Figure size 432x288 with 1 Axes>"
      ]
     },
     "metadata": {
      "needs_background": "light"
     },
     "output_type": "display_data"
    }
   ],
   "source": [
    "df.Customer_care_calls.hist(color='g')\n",
    "plt.show"
   ]
  },
  {
   "cell_type": "code",
   "execution_count": 70,
   "id": "321ae986",
   "metadata": {},
   "outputs": [
    {
     "data": {
      "text/plain": [
       "Text(0.5, 0, 'Customer_care_calls')"
      ]
     },
     "execution_count": 70,
     "metadata": {},
     "output_type": "execute_result"
    },
    {
     "data": {
      "image/png": "[encoded data removed]",
      "text/plain": [
       "<Figure size 432x288 with 1 Axes>"
      ]
     },
     "metadata": {},
     "output_type": "display_data"
    }
   ],
   "source": [
    "df.groupby(\"Customer_care_calls\").size().plot(kind='pie', autopct='%.2f').set_xlabel(\"Customer_care_calls\", size=22,color='g')"
   ]
  },
  {
   "cell_type": "markdown",
   "id": "bf0e7707",
   "metadata": {},
   "source": [
    "#### 3500+ customer made 4 calls . Most of the customer have 3,4,5 calls."
   ]
  },
  {
   "cell_type": "markdown",
   "id": "84128ecc",
   "metadata": {},
   "source": [
    "# Warehouse_block column"
   ]
  },
  {
   "cell_type": "code",
   "execution_count": 71,
   "id": "f6217c53",
   "metadata": {
    "scrolled": true
   },
   "outputs": [
    {
     "data": {
      "image/png": "[encoded data removed]",
      "text/plain": [
       "<Figure size 432x288 with 1 Axes>"
      ]
     },
     "metadata": {
      "needs_background": "light"
     },
     "output_type": "display_data"
    }
   ],
   "source": [
    "df.Warehouse_block.hist(color='b')\n",
    "plt.show()"
   ]
  },
  {
   "cell_type": "code",
   "execution_count": 72,
   "id": "42e5bc26",
   "metadata": {},
   "outputs": [
    {
     "data": {
      "text/plain": [
       "Text(0.5, 0, 'Warehouse_block')"
      ]
     },
     "execution_count": 72,
     "metadata": {},
     "output_type": "execute_result"
    },
    {
     "data": {
      "image/png": "[encoded data removed]",
      "text/plain": [
       "<Figure size 432x288 with 1 Axes>"
      ]
     },
     "metadata": {},
     "output_type": "display_data"
    }
   ],
   "source": [
    "df.groupby(\"Warehouse_block\").size().plot(kind='pie', autopct='%.2f').set_xlabel('Warehouse_block', size=32,color='g')"
   ]
  },
  {
   "cell_type": "markdown",
   "id": "e12cdf9f",
   "metadata": {},
   "source": [
    "#### More than 3500 product are dispatched from F warehouse block. Aprox. 1800 product dispatched from each block(A, B, C, D) .This graph shows that F block dispached almost double products as compare to other warehouse block."
   ]
  },
  {
   "cell_type": "markdown",
   "id": "e83becaf",
   "metadata": {},
   "source": [
    "# Deliver on time column"
   ]
  },
  {
   "cell_type": "code",
   "execution_count": 73,
   "id": "a52913fd",
   "metadata": {},
   "outputs": [
    {
     "data": {
      "image/png": "[encoded data removed]",
      "text/plain": [
       "<Figure size 432x288 with 1 Axes>"
      ]
     },
     "metadata": {
      "needs_background": "light"
     },
     "output_type": "display_data"
    }
   ],
   "source": [
    "df.ON_TIME.hist(color='y')\n",
    "plt.show()"
   ]
  },
  {
   "cell_type": "code",
   "execution_count": 74,
   "id": "15da771b",
   "metadata": {},
   "outputs": [
    {
     "data": {
      "text/plain": [
       "Text(0.5, 0, 'ON_TIME')"
      ]
     },
     "execution_count": 74,
     "metadata": {},
     "output_type": "execute_result"
    },
    {
     "data": {
      "image/png": "[encoded data removed]",
      "text/plain": [
       "<Figure size 432x288 with 1 Axes>"
      ]
     },
     "metadata": {},
     "output_type": "display_data"
    }
   ],
   "source": [
    "df.groupby(\"ON_TIME\").size().plot(kind='pie', autopct='%.2f').set_xlabel('ON_TIME', size=22,color='g')"
   ]
  },
  {
   "cell_type": "markdown",
   "id": "e9e58662",
   "metadata": {},
   "source": [
    "#### This visualization shows that almost 59.67% of products was delivered on time and 40.33% was late delivered. "
   ]
  },
  {
   "cell_type": "markdown",
   "id": "fe43ec15",
   "metadata": {},
   "source": [
    "# Discount Offered"
   ]
  },
  {
   "cell_type": "code",
   "execution_count": 75,
   "id": "55639e63",
   "metadata": {},
   "outputs": [
    {
     "data": {
      "image/png": "[encoded data removed]",
      "text/plain": [
       "<Figure size 432x288 with 1 Axes>"
      ]
     },
     "metadata": {
      "needs_background": "light"
     },
     "output_type": "display_data"
    }
   ],
   "source": [
    "df.Discount_offered .hist(color='r')\n",
    "plt.show()"
   ]
  },
  {
   "cell_type": "markdown",
   "id": "3cf5f806",
   "metadata": {},
   "source": [
    "#### Almost 1% to 12% discount offered on 8000+ of product out of 10999 products and 13 to 66 percent discount offered on very less ammount of products. "
   ]
  },
  {
   "cell_type": "markdown",
   "id": "bace05f5",
   "metadata": {},
   "source": [
    "# Customer_rating column"
   ]
  },
  {
   "cell_type": "code",
   "execution_count": 76,
   "id": "fb8a7681",
   "metadata": {},
   "outputs": [
    {
     "data": {
      "image/png": "[encoded data removed]",
      "text/plain": [
       "<Figure size 432x288 with 1 Axes>"
      ]
     },
     "metadata": {
      "needs_background": "light"
     },
     "output_type": "display_data"
    }
   ],
   "source": [
    "df.Customer_rating .hist(color='y')\n",
    "plt.show()"
   ]
  },
  {
   "cell_type": "code",
   "execution_count": 77,
   "id": "32b27206",
   "metadata": {},
   "outputs": [
    {
     "data": {
      "text/plain": [
       "Text(0.5, 0, 'Customer_rating')"
      ]
     },
     "execution_count": 77,
     "metadata": {},
     "output_type": "execute_result"
    },
    {
     "data": {
      "image/png": "[encoded data removed]",
      "text/plain": [
       "<Figure size 432x288 with 1 Axes>"
      ]
     },
     "metadata": {},
     "output_type": "display_data"
    }
   ],
   "source": [
    "df.groupby(\"Customer_rating\").size().plot(kind='pie', autopct='%.2f').set_xlabel(\"Customer_rating\", size=22,color='g')"
   ]
  },
  {
   "cell_type": "markdown",
   "id": "f0ef7323",
   "metadata": {},
   "source": [
    "####  20.32% customer give rating - 1.0\n",
    "####  19.68% customer give rating - 2.0\n",
    "####  20.36% customer give rating - 3.0\n",
    "####  19.90% customer give rating - 4.0\n",
    "####  19.74% customer give rating - 5.0"
   ]
  },
  {
   "cell_type": "markdown",
   "id": "2b410438",
   "metadata": {},
   "source": [
    "# Product_importance Column"
   ]
  },
  {
   "cell_type": "code",
   "execution_count": 78,
   "id": "5324e828",
   "metadata": {},
   "outputs": [
    {
     "data": {
      "image/png": "[encoded data removed]",
      "text/plain": [
       "<Figure size 432x288 with 1 Axes>"
      ]
     },
     "metadata": {
      "needs_background": "light"
     },
     "output_type": "display_data"
    }
   ],
   "source": [
    "df.Product_importance.hist(color='y')\n",
    "plt.show()"
   ]
  },
  {
   "cell_type": "code",
   "execution_count": 79,
   "id": "d13a9a81",
   "metadata": {},
   "outputs": [
    {
     "data": {
      "text/plain": [
       "Text(0.5, 0, 'Product_importance')"
      ]
     },
     "execution_count": 79,
     "metadata": {},
     "output_type": "execute_result"
    },
    {
     "data": {
      "image/png": "[encoded data removed]",
      "text/plain": [
       "<Figure size 432x288 with 1 Axes>"
      ]
     },
     "metadata": {},
     "output_type": "display_data"
    }
   ],
   "source": [
    "df.groupby(\"Product_importance\").size().plot(kind='pie', autopct='%.2f').set_xlabel(\"Product_importance\", size=22,color='g')"
   ]
  },
  {
   "cell_type": "markdown",
   "id": "11bca1be",
   "metadata": {},
   "source": [
    "#### 48.16% Product have LOW product importance\n",
    "#### 43.22% Product have MEDIUM product importance\n",
    "#### 8.62% Product have HIGH product importance"
   ]
  },
  {
   "cell_type": "markdown",
   "id": "65bbe857",
   "metadata": {},
   "source": [
    "# Gender column"
   ]
  },
  {
   "cell_type": "code",
   "execution_count": 80,
   "id": "df2f26fe",
   "metadata": {},
   "outputs": [
    {
     "data": {
      "image/png": "[encoded data removed]",
      "text/plain": [
       "<Figure size 432x288 with 1 Axes>"
      ]
     },
     "metadata": {
      "needs_background": "light"
     },
     "output_type": "display_data"
    }
   ],
   "source": [
    "df.Gender.hist(color='y')\n",
    "plt.show()\n"
   ]
  },
  {
   "cell_type": "code",
   "execution_count": 81,
   "id": "b192ca68",
   "metadata": {},
   "outputs": [
    {
     "data": {
      "text/plain": [
       "Text(0.5, 0, 'Gender')"
      ]
     },
     "execution_count": 81,
     "metadata": {},
     "output_type": "execute_result"
    },
    {
     "data": {
      "image/png": "[encoded data removed]",
      "text/plain": [
       "<Figure size 432x288 with 1 Axes>"
      ]
     },
     "metadata": {},
     "output_type": "display_data"
    }
   ],
   "source": [
    "df.groupby(\"Gender\").size().plot(kind='pie', autopct='%.2f').set_xlabel(\"Gender\", size=22,color='g')"
   ]
  },
  {
   "cell_type": "markdown",
   "id": "cbb6025f",
   "metadata": {},
   "source": [
    "#### 50.41% product ordered by female customers and 49.59% product ordered by male customers"
   ]
  },
  {
   "cell_type": "markdown",
   "id": "f8988365",
   "metadata": {},
   "source": [
    "# Mode of Shipment"
   ]
  },
  {
   "cell_type": "code",
   "execution_count": 82,
   "id": "558af2d6",
   "metadata": {},
   "outputs": [
    {
     "data": {
      "image/png": "[encoded data removed]",
      "text/plain": [
       "<Figure size 432x288 with 1 Axes>"
      ]
     },
     "metadata": {
      "needs_background": "light"
     },
     "output_type": "display_data"
    }
   ],
   "source": [
    "df.Mode_of_Shipment.hist(color='b')\n",
    "plt.show()"
   ]
  },
  {
   "cell_type": "code",
   "execution_count": 83,
   "id": "3a5b4b2e",
   "metadata": {},
   "outputs": [
    {
     "data": {
      "text/plain": [
       "Text(0.5, 0, 'Mode_of_Shipment')"
      ]
     },
     "execution_count": 83,
     "metadata": {},
     "output_type": "execute_result"
    },
    {
     "data": {
      "image/png": "[encoded data removed]",
      "text/plain": [
       "<Figure size 432x288 with 1 Axes>"
      ]
     },
     "metadata": {},
     "output_type": "display_data"
    }
   ],
   "source": [
    "df.groupby(\"Mode_of_Shipment\").size().plot(kind='pie', autopct='%.2f').set_xlabel('Mode_of_Shipment', size=22,color='g')"
   ]
  },
  {
   "cell_type": "markdown",
   "id": "286c51e1",
   "metadata": {},
   "source": [
    "#### 16% by Road , 16.16% by Flight , and 67.84 by Ship so most of the product are delivered by ship."
   ]
  },
  {
   "cell_type": "markdown",
   "id": "9e5e426c",
   "metadata": {},
   "source": [
    "# Prior Purchase"
   ]
  },
  {
   "cell_type": "code",
   "execution_count": 84,
   "id": "8697dd86",
   "metadata": {},
   "outputs": [
    {
     "data": {
      "text/plain": [
       "<AxesSubplot:xlabel='Prior_purchases', ylabel='count'>"
      ]
     },
     "execution_count": 84,
     "metadata": {},
     "output_type": "execute_result"
    },
    {
     "data": {
      "image/png": "[encoded data removed]",
      "text/plain": [
       "<Figure size 432x288 with 1 Axes>"
      ]
     },
     "metadata": {
      "needs_background": "light"
     },
     "output_type": "display_data"
    }
   ],
   "source": [
    " sns.countplot(x ='Prior_purchases' , data = df, palette='rocket')"
   ]
  },
  {
   "cell_type": "code",
   "execution_count": 85,
   "id": "cfcd3516",
   "metadata": {},
   "outputs": [
    {
     "data": {
      "text/plain": [
       "Text(0.5, 0, 'Prior_purchases')"
      ]
     },
     "execution_count": 85,
     "metadata": {},
     "output_type": "execute_result"
    },
    {
     "data": {
      "image/png": "[encoded data removed]",
      "text/plain": [
       "<Figure size 432x288 with 1 Axes>"
      ]
     },
     "metadata": {},
     "output_type": "display_data"
    }
   ],
   "source": [
    "df.groupby(\"Prior_purchases\").size().plot(kind='pie', autopct='%.2f').set_xlabel('Prior_purchases', size=22,color='g')"
   ]
  },
  {
   "cell_type": "markdown",
   "id": "e9bb85cf",
   "metadata": {},
   "source": [
    "#### 36% customer purchase product 3 time before\n",
    "#### 19.5% cusomer purchase product 4 time before\n",
    "#### 23.6%cstomer purchase product 2time before"
   ]
  },
  {
   "cell_type": "code",
   "execution_count": 86,
   "id": "0256d495",
   "metadata": {},
   "outputs": [
    {
     "data": {
      "image/png": "[encoded data removed]",
      "text/plain": [
       "<Figure size 1224x432 with 1 Axes>"
      ]
     },
     "metadata": {
      "needs_background": "light"
     },
     "output_type": "display_data"
    }
   ],
   "source": [
    "plt.figure(figsize = (17, 6))\n",
    "sns.countplot('Warehouse_block', hue = 'ON_TIME', data = df, palette='rocket')\n",
    "plt.show()"
   ]
  },
  {
   "cell_type": "markdown",
   "id": "e227a23b",
   "metadata": {},
   "source": [
    "#### From each warehouse block almost 40% product was delivered on time."
   ]
  },
  {
   "cell_type": "code",
   "execution_count": 88,
   "id": "c6a95a4c",
   "metadata": {},
   "outputs": [],
   "source": [
    "import sys\n",
    "\n",
    "if not sys.warnoptions:\n",
    "    import warnings\n",
    "    warnings.simplefilter(\"ignore\")"
   ]
  },
  {
   "cell_type": "markdown",
   "id": "2f7e7953",
   "metadata": {},
   "source": [
    "# Q1.What was Customer Rating? And was the product delivered on time?"
   ]
  },
  {
   "cell_type": "code",
   "execution_count": 89,
   "id": "f5b20f94",
   "metadata": {},
   "outputs": [
    {
     "data": {
      "image/png": "[encoded data removed]",
      "text/plain": [
       "<Figure size 1224x432 with 1 Axes>"
      ]
     },
     "metadata": {
      "needs_background": "light"
     },
     "output_type": "display_data"
    }
   ],
   "source": [
    "plt.figure(figsize = (17, 6))\n",
    "sns.countplot('Customer_rating', hue = 'ON_TIME', data = df, palette='rocket')\n",
    "plt.show()"
   ]
  },
  {
   "cell_type": "markdown",
   "id": "07eb3aa4",
   "metadata": {},
   "source": [
    "# Ans. Customer rating is not affected by the product delivered on time. For each category of customer rating aprox. 60% product delivered on time and 40% is not delivered on time."
   ]
  },
  {
   "cell_type": "markdown",
   "id": "13478ce5",
   "metadata": {},
   "source": [
    "#  Q2. Is Customer query is being answered?"
   ]
  },
  {
   "cell_type": "code",
   "execution_count": 90,
   "id": "0fa7f9dd",
   "metadata": {},
   "outputs": [
    {
     "data": {
      "text/plain": [
       "<AxesSubplot:xlabel='Customer_care_calls', ylabel='count'>"
      ]
     },
     "execution_count": 90,
     "metadata": {},
     "output_type": "execute_result"
    },
    {
     "data": {
      "image/png": "[encoded data removed]",
      "text/plain": [
       "<Figure size 432x288 with 1 Axes>"
      ]
     },
     "metadata": {
      "needs_background": "light"
     },
     "output_type": "display_data"
    }
   ],
   "source": [
    " sns.countplot(x ='Customer_care_calls' , data = df, palette='rocket')"
   ]
  },
  {
   "cell_type": "markdown",
   "id": "99b7b7dc",
   "metadata": {},
   "source": [
    "# Ans. Yes Customer query is answered . Most of the product have customer care calls more than 3."
   ]
  },
  {
   "cell_type": "markdown",
   "id": "e2f63947",
   "metadata": {},
   "source": [
    "# Q3.If Product importance is high. having highest rating or being delivered on time?"
   ]
  },
  {
   "cell_type": "code",
   "execution_count": 91,
   "id": "c1759704",
   "metadata": {},
   "outputs": [
    {
     "data": {
      "image/png": "[encoded data removed]",
      "text/plain": [
       "<Figure size 1224x432 with 1 Axes>"
      ]
     },
     "metadata": {
      "needs_background": "light"
     },
     "output_type": "display_data"
    }
   ],
   "source": [
    "plt.figure(figsize = (17, 6))\n",
    "sns.countplot('Product_importance', hue = 'Customer_rating', data = df, palette='rocket')\n",
    "plt.show()"
   ]
  },
  {
   "cell_type": "markdown",
   "id": "3344a37e",
   "metadata": {},
   "source": [
    "# Ans. No equal rating for each category of product importance. High product importance product have similar rating as Low and Medium. There is no effect on customer rating according to product importance."
   ]
  },
  {
   "cell_type": "code",
   "execution_count": 40,
   "id": "39bda9e7",
   "metadata": {},
   "outputs": [
    {
     "data": {
      "text/html": [
       "<div>\n",
       "<style scoped>\n",
       "    .dataframe tbody tr th:only-of-type {\n",
       "        vertical-align: middle;\n",
       "    }\n",
       "\n",
       "    .dataframe tbody tr th {\n",
       "        vertical-align: top;\n",
       "    }\n",
       "\n",
       "    .dataframe thead th {\n",
       "        text-align: right;\n",
       "    }\n",
       "</style>\n",
       "<table border=\"1\" class=\"dataframe\">\n",
       "  <thead>\n",
       "    <tr style=\"text-align: right;\">\n",
       "      <th></th>\n",
       "      <th>Warehouse_block</th>\n",
       "      <th>Mode_of_Shipment</th>\n",
       "      <th>Customer_care_calls</th>\n",
       "      <th>Customer_rating</th>\n",
       "      <th>Cost_of_the_Product</th>\n",
       "      <th>Prior_purchases</th>\n",
       "      <th>Product_importance</th>\n",
       "      <th>Gender</th>\n",
       "      <th>Discount_offered</th>\n",
       "      <th>Weight_in_gms</th>\n",
       "      <th>ON_TIME</th>\n",
       "    </tr>\n",
       "  </thead>\n",
       "  <tbody>\n",
       "    <tr>\n",
       "      <th>0</th>\n",
       "      <td>D</td>\n",
       "      <td>Flight</td>\n",
       "      <td>4</td>\n",
       "      <td>2</td>\n",
       "      <td>177</td>\n",
       "      <td>3</td>\n",
       "      <td>low</td>\n",
       "      <td>F</td>\n",
       "      <td>44</td>\n",
       "      <td>1233</td>\n",
       "      <td>1</td>\n",
       "    </tr>\n",
       "    <tr>\n",
       "      <th>1</th>\n",
       "      <td>F</td>\n",
       "      <td>Flight</td>\n",
       "      <td>4</td>\n",
       "      <td>5</td>\n",
       "      <td>216</td>\n",
       "      <td>2</td>\n",
       "      <td>low</td>\n",
       "      <td>M</td>\n",
       "      <td>59</td>\n",
       "      <td>3088</td>\n",
       "      <td>1</td>\n",
       "    </tr>\n",
       "    <tr>\n",
       "      <th>2</th>\n",
       "      <td>A</td>\n",
       "      <td>Flight</td>\n",
       "      <td>2</td>\n",
       "      <td>2</td>\n",
       "      <td>183</td>\n",
       "      <td>4</td>\n",
       "      <td>low</td>\n",
       "      <td>M</td>\n",
       "      <td>48</td>\n",
       "      <td>3374</td>\n",
       "      <td>1</td>\n",
       "    </tr>\n",
       "    <tr>\n",
       "      <th>3</th>\n",
       "      <td>B</td>\n",
       "      <td>Flight</td>\n",
       "      <td>3</td>\n",
       "      <td>3</td>\n",
       "      <td>176</td>\n",
       "      <td>4</td>\n",
       "      <td>medium</td>\n",
       "      <td>M</td>\n",
       "      <td>10</td>\n",
       "      <td>1177</td>\n",
       "      <td>1</td>\n",
       "    </tr>\n",
       "    <tr>\n",
       "      <th>4</th>\n",
       "      <td>C</td>\n",
       "      <td>Flight</td>\n",
       "      <td>2</td>\n",
       "      <td>2</td>\n",
       "      <td>184</td>\n",
       "      <td>3</td>\n",
       "      <td>medium</td>\n",
       "      <td>F</td>\n",
       "      <td>46</td>\n",
       "      <td>2484</td>\n",
       "      <td>1</td>\n",
       "    </tr>\n",
       "    <tr>\n",
       "      <th>...</th>\n",
       "      <td>...</td>\n",
       "      <td>...</td>\n",
       "      <td>...</td>\n",
       "      <td>...</td>\n",
       "      <td>...</td>\n",
       "      <td>...</td>\n",
       "      <td>...</td>\n",
       "      <td>...</td>\n",
       "      <td>...</td>\n",
       "      <td>...</td>\n",
       "      <td>...</td>\n",
       "    </tr>\n",
       "    <tr>\n",
       "      <th>10994</th>\n",
       "      <td>A</td>\n",
       "      <td>Ship</td>\n",
       "      <td>4</td>\n",
       "      <td>1</td>\n",
       "      <td>252</td>\n",
       "      <td>5</td>\n",
       "      <td>medium</td>\n",
       "      <td>F</td>\n",
       "      <td>1</td>\n",
       "      <td>1538</td>\n",
       "      <td>1</td>\n",
       "    </tr>\n",
       "    <tr>\n",
       "      <th>10995</th>\n",
       "      <td>B</td>\n",
       "      <td>Ship</td>\n",
       "      <td>4</td>\n",
       "      <td>1</td>\n",
       "      <td>232</td>\n",
       "      <td>5</td>\n",
       "      <td>medium</td>\n",
       "      <td>F</td>\n",
       "      <td>6</td>\n",
       "      <td>1247</td>\n",
       "      <td>0</td>\n",
       "    </tr>\n",
       "    <tr>\n",
       "      <th>10996</th>\n",
       "      <td>C</td>\n",
       "      <td>Ship</td>\n",
       "      <td>5</td>\n",
       "      <td>4</td>\n",
       "      <td>242</td>\n",
       "      <td>5</td>\n",
       "      <td>low</td>\n",
       "      <td>F</td>\n",
       "      <td>4</td>\n",
       "      <td>1155</td>\n",
       "      <td>0</td>\n",
       "    </tr>\n",
       "    <tr>\n",
       "      <th>10997</th>\n",
       "      <td>F</td>\n",
       "      <td>Ship</td>\n",
       "      <td>5</td>\n",
       "      <td>2</td>\n",
       "      <td>223</td>\n",
       "      <td>6</td>\n",
       "      <td>medium</td>\n",
       "      <td>M</td>\n",
       "      <td>2</td>\n",
       "      <td>1210</td>\n",
       "      <td>0</td>\n",
       "    </tr>\n",
       "    <tr>\n",
       "      <th>10998</th>\n",
       "      <td>D</td>\n",
       "      <td>Ship</td>\n",
       "      <td>2</td>\n",
       "      <td>5</td>\n",
       "      <td>155</td>\n",
       "      <td>5</td>\n",
       "      <td>low</td>\n",
       "      <td>F</td>\n",
       "      <td>6</td>\n",
       "      <td>1639</td>\n",
       "      <td>0</td>\n",
       "    </tr>\n",
       "  </tbody>\n",
       "</table>\n",
       "<p>10999 rows × 11 columns</p>\n",
       "</div>"
      ],
      "text/plain": [
       "      Warehouse_block Mode_of_Shipment  Customer_care_calls  Customer_rating  \\\n",
       "0                   D           Flight                    4                2   \n",
       "1                   F           Flight                    4                5   \n",
       "2                   A           Flight                    2                2   \n",
       "3                   B           Flight                    3                3   \n",
       "4                   C           Flight                    2                2   \n",
       "...               ...              ...                  ...              ...   \n",
       "10994               A             Ship                    4                1   \n",
       "10995               B             Ship                    4                1   \n",
       "10996               C             Ship                    5                4   \n",
       "10997               F             Ship                    5                2   \n",
       "10998               D             Ship                    2                5   \n",
       "\n",
       "       Cost_of_the_Product  Prior_purchases Product_importance Gender  \\\n",
       "0                      177                3                low      F   \n",
       "1                      216                2                low      M   \n",
       "2                      183                4                low      M   \n",
       "3                      176                4             medium      M   \n",
       "4                      184                3             medium      F   \n",
       "...                    ...              ...                ...    ...   \n",
       "10994                  252                5             medium      F   \n",
       "10995                  232                5             medium      F   \n",
       "10996                  242                5                low      F   \n",
       "10997                  223                6             medium      M   \n",
       "10998                  155                5                low      F   \n",
       "\n",
       "       Discount_offered  Weight_in_gms  ON_TIME  \n",
       "0                    44           1233        1  \n",
       "1                    59           3088        1  \n",
       "2                    48           3374        1  \n",
       "3                    10           1177        1  \n",
       "4                    46           2484        1  \n",
       "...                 ...            ...      ...  \n",
       "10994                 1           1538        1  \n",
       "10995                 6           1247        0  \n",
       "10996                 4           1155        0  \n",
       "10997                 2           1210        0  \n",
       "10998                 6           1639        0  \n",
       "\n",
       "[10999 rows x 11 columns]"
      ]
     },
     "execution_count": 40,
     "metadata": {},
     "output_type": "execute_result"
    }
   ],
   "source": [
    "df"
   ]
  },
  {
   "cell_type": "code",
   "execution_count": 41,
   "id": "ce61aff9",
   "metadata": {},
   "outputs": [
    {
     "data": {
      "text/plain": [
       "Index(['Warehouse_block', 'Mode_of_Shipment', 'Customer_care_calls',\n",
       "       'Customer_rating', 'Cost_of_the_Product', 'Prior_purchases',\n",
       "       'Product_importance', 'Gender', 'Discount_offered', 'Weight_in_gms',\n",
       "       'ON_TIME'],\n",
       "      dtype='object')"
      ]
     },
     "execution_count": 41,
     "metadata": {},
     "output_type": "execute_result"
    }
   ],
   "source": [
    "df.columns"
   ]
  },
  {
   "cell_type": "markdown",
   "id": "4a78243b",
   "metadata": {},
   "source": [
    "# Encoding categorical variable to numerical variable"
   ]
  },
  {
   "cell_type": "code",
   "execution_count": 42,
   "id": "0fd8408a",
   "metadata": {},
   "outputs": [],
   "source": [
    "def Encode(df):\n",
    "    for column in df.columns[~df.columns.isin([ 'Customer_care_calls',\n",
    "       'Customer_rating', 'Cost_of_the_Product', 'Prior_purchases', 'Discount_offered', 'Weight_in_KG',\n",
    "       'ON_TIME'])]:\n",
    "        df[column] = df[column].factorize()[0]\n",
    "    return df\n",
    "\n",
    "df_en = Encode(df.copy())"
   ]
  },
  {
   "cell_type": "code",
   "execution_count": 43,
   "id": "ca2a3797",
   "metadata": {},
   "outputs": [
    {
     "data": {
      "text/html": [
       "<div>\n",
       "<style scoped>\n",
       "    .dataframe tbody tr th:only-of-type {\n",
       "        vertical-align: middle;\n",
       "    }\n",
       "\n",
       "    .dataframe tbody tr th {\n",
       "        vertical-align: top;\n",
       "    }\n",
       "\n",
       "    .dataframe thead th {\n",
       "        text-align: right;\n",
       "    }\n",
       "</style>\n",
       "<table border=\"1\" class=\"dataframe\">\n",
       "  <thead>\n",
       "    <tr style=\"text-align: right;\">\n",
       "      <th></th>\n",
       "      <th>Warehouse_block</th>\n",
       "      <th>Mode_of_Shipment</th>\n",
       "      <th>Customer_care_calls</th>\n",
       "      <th>Customer_rating</th>\n",
       "      <th>Cost_of_the_Product</th>\n",
       "      <th>Prior_purchases</th>\n",
       "      <th>Product_importance</th>\n",
       "      <th>Gender</th>\n",
       "      <th>Discount_offered</th>\n",
       "      <th>Weight_in_gms</th>\n",
       "      <th>ON_TIME</th>\n",
       "    </tr>\n",
       "  </thead>\n",
       "  <tbody>\n",
       "    <tr>\n",
       "      <th>0</th>\n",
       "      <td>0</td>\n",
       "      <td>0</td>\n",
       "      <td>4</td>\n",
       "      <td>2</td>\n",
       "      <td>177</td>\n",
       "      <td>3</td>\n",
       "      <td>0</td>\n",
       "      <td>0</td>\n",
       "      <td>44</td>\n",
       "      <td>0</td>\n",
       "      <td>1</td>\n",
       "    </tr>\n",
       "    <tr>\n",
       "      <th>1</th>\n",
       "      <td>1</td>\n",
       "      <td>0</td>\n",
       "      <td>4</td>\n",
       "      <td>5</td>\n",
       "      <td>216</td>\n",
       "      <td>2</td>\n",
       "      <td>0</td>\n",
       "      <td>1</td>\n",
       "      <td>59</td>\n",
       "      <td>1</td>\n",
       "      <td>1</td>\n",
       "    </tr>\n",
       "    <tr>\n",
       "      <th>2</th>\n",
       "      <td>2</td>\n",
       "      <td>0</td>\n",
       "      <td>2</td>\n",
       "      <td>2</td>\n",
       "      <td>183</td>\n",
       "      <td>4</td>\n",
       "      <td>0</td>\n",
       "      <td>1</td>\n",
       "      <td>48</td>\n",
       "      <td>2</td>\n",
       "      <td>1</td>\n",
       "    </tr>\n",
       "    <tr>\n",
       "      <th>3</th>\n",
       "      <td>3</td>\n",
       "      <td>0</td>\n",
       "      <td>3</td>\n",
       "      <td>3</td>\n",
       "      <td>176</td>\n",
       "      <td>4</td>\n",
       "      <td>1</td>\n",
       "      <td>1</td>\n",
       "      <td>10</td>\n",
       "      <td>3</td>\n",
       "      <td>1</td>\n",
       "    </tr>\n",
       "    <tr>\n",
       "      <th>4</th>\n",
       "      <td>4</td>\n",
       "      <td>0</td>\n",
       "      <td>2</td>\n",
       "      <td>2</td>\n",
       "      <td>184</td>\n",
       "      <td>3</td>\n",
       "      <td>1</td>\n",
       "      <td>0</td>\n",
       "      <td>46</td>\n",
       "      <td>4</td>\n",
       "      <td>1</td>\n",
       "    </tr>\n",
       "    <tr>\n",
       "      <th>...</th>\n",
       "      <td>...</td>\n",
       "      <td>...</td>\n",
       "      <td>...</td>\n",
       "      <td>...</td>\n",
       "      <td>...</td>\n",
       "      <td>...</td>\n",
       "      <td>...</td>\n",
       "      <td>...</td>\n",
       "      <td>...</td>\n",
       "      <td>...</td>\n",
       "      <td>...</td>\n",
       "    </tr>\n",
       "    <tr>\n",
       "      <th>10994</th>\n",
       "      <td>2</td>\n",
       "      <td>1</td>\n",
       "      <td>4</td>\n",
       "      <td>1</td>\n",
       "      <td>252</td>\n",
       "      <td>5</td>\n",
       "      <td>1</td>\n",
       "      <td>0</td>\n",
       "      <td>1</td>\n",
       "      <td>1065</td>\n",
       "      <td>1</td>\n",
       "    </tr>\n",
       "    <tr>\n",
       "      <th>10995</th>\n",
       "      <td>3</td>\n",
       "      <td>1</td>\n",
       "      <td>4</td>\n",
       "      <td>1</td>\n",
       "      <td>232</td>\n",
       "      <td>5</td>\n",
       "      <td>1</td>\n",
       "      <td>0</td>\n",
       "      <td>6</td>\n",
       "      <td>595</td>\n",
       "      <td>0</td>\n",
       "    </tr>\n",
       "    <tr>\n",
       "      <th>10996</th>\n",
       "      <td>4</td>\n",
       "      <td>1</td>\n",
       "      <td>5</td>\n",
       "      <td>4</td>\n",
       "      <td>242</td>\n",
       "      <td>5</td>\n",
       "      <td>0</td>\n",
       "      <td>0</td>\n",
       "      <td>4</td>\n",
       "      <td>1093</td>\n",
       "      <td>0</td>\n",
       "    </tr>\n",
       "    <tr>\n",
       "      <th>10997</th>\n",
       "      <td>1</td>\n",
       "      <td>1</td>\n",
       "      <td>5</td>\n",
       "      <td>2</td>\n",
       "      <td>223</td>\n",
       "      <td>6</td>\n",
       "      <td>1</td>\n",
       "      <td>1</td>\n",
       "      <td>2</td>\n",
       "      <td>938</td>\n",
       "      <td>0</td>\n",
       "    </tr>\n",
       "    <tr>\n",
       "      <th>10998</th>\n",
       "      <td>0</td>\n",
       "      <td>1</td>\n",
       "      <td>2</td>\n",
       "      <td>5</td>\n",
       "      <td>155</td>\n",
       "      <td>5</td>\n",
       "      <td>0</td>\n",
       "      <td>0</td>\n",
       "      <td>6</td>\n",
       "      <td>238</td>\n",
       "      <td>0</td>\n",
       "    </tr>\n",
       "  </tbody>\n",
       "</table>\n",
       "<p>10999 rows × 11 columns</p>\n",
       "</div>"
      ],
      "text/plain": [
       "       Warehouse_block  Mode_of_Shipment  Customer_care_calls  \\\n",
       "0                    0                 0                    4   \n",
       "1                    1                 0                    4   \n",
       "2                    2                 0                    2   \n",
       "3                    3                 0                    3   \n",
       "4                    4                 0                    2   \n",
       "...                ...               ...                  ...   \n",
       "10994                2                 1                    4   \n",
       "10995                3                 1                    4   \n",
       "10996                4                 1                    5   \n",
       "10997                1                 1                    5   \n",
       "10998                0                 1                    2   \n",
       "\n",
       "       Customer_rating  Cost_of_the_Product  Prior_purchases  \\\n",
       "0                    2                  177                3   \n",
       "1                    5                  216                2   \n",
       "2                    2                  183                4   \n",
       "3                    3                  176                4   \n",
       "4                    2                  184                3   \n",
       "...                ...                  ...              ...   \n",
       "10994                1                  252                5   \n",
       "10995                1                  232                5   \n",
       "10996                4                  242                5   \n",
       "10997                2                  223                6   \n",
       "10998                5                  155                5   \n",
       "\n",
       "       Product_importance  Gender  Discount_offered  Weight_in_gms  ON_TIME  \n",
       "0                       0       0                44              0        1  \n",
       "1                       0       1                59              1        1  \n",
       "2                       0       1                48              2        1  \n",
       "3                       1       1                10              3        1  \n",
       "4                       1       0                46              4        1  \n",
       "...                   ...     ...               ...            ...      ...  \n",
       "10994                   1       0                 1           1065        1  \n",
       "10995                   1       0                 6            595        0  \n",
       "10996                   0       0                 4           1093        0  \n",
       "10997                   1       1                 2            938        0  \n",
       "10998                   0       0                 6            238        0  \n",
       "\n",
       "[10999 rows x 11 columns]"
      ]
     },
     "execution_count": 43,
     "metadata": {},
     "output_type": "execute_result"
    }
   ],
   "source": [
    "df_en"
   ]
  },
  {
   "cell_type": "code",
   "execution_count": 92,
   "id": "5fb160d0",
   "metadata": {},
   "outputs": [
    {
     "data": {
      "text/plain": [
       "<AxesSubplot:>"
      ]
     },
     "execution_count": 92,
     "metadata": {},
     "output_type": "execute_result"
    },
    {
     "data": {
      "image/png": "[encoded data removed]",
      "text/plain": [
       "<Figure size 1296x864 with 2 Axes>"
      ]
     },
     "metadata": {
      "needs_background": "light"
     },
     "output_type": "display_data"
    }
   ],
   "source": [
    "plt.figure(figsize=(18, 12))\n",
    "sns.heatmap(df_en.corr(), annot=True, linewidth=1)"
   ]
  },
  {
   "cell_type": "markdown",
   "id": "4ddf5e2e",
   "metadata": {},
   "source": [
    "## In the above heatmap weight in gm shows very high negative correlation with the result variable so i have to drop this column from the dataset."
   ]
  },
  {
   "cell_type": "code",
   "execution_count": 45,
   "id": "26787eae",
   "metadata": {},
   "outputs": [],
   "source": [
    "\n",
    "df_en=df_en.drop('Cost_of_the_Product', axis=1)"
   ]
  },
  {
   "cell_type": "code",
   "execution_count": 46,
   "id": "344076c6",
   "metadata": {},
   "outputs": [
    {
     "data": {
      "text/html": [
       "<div>\n",
       "<style scoped>\n",
       "    .dataframe tbody tr th:only-of-type {\n",
       "        vertical-align: middle;\n",
       "    }\n",
       "\n",
       "    .dataframe tbody tr th {\n",
       "        vertical-align: top;\n",
       "    }\n",
       "\n",
       "    .dataframe thead th {\n",
       "        text-align: right;\n",
       "    }\n",
       "</style>\n",
       "<table border=\"1\" class=\"dataframe\">\n",
       "  <thead>\n",
       "    <tr style=\"text-align: right;\">\n",
       "      <th></th>\n",
       "      <th>Warehouse_block</th>\n",
       "      <th>Mode_of_Shipment</th>\n",
       "      <th>Customer_care_calls</th>\n",
       "      <th>Customer_rating</th>\n",
       "      <th>Prior_purchases</th>\n",
       "      <th>Product_importance</th>\n",
       "      <th>Gender</th>\n",
       "      <th>Discount_offered</th>\n",
       "      <th>Weight_in_gms</th>\n",
       "      <th>ON_TIME</th>\n",
       "    </tr>\n",
       "  </thead>\n",
       "  <tbody>\n",
       "    <tr>\n",
       "      <th>0</th>\n",
       "      <td>0</td>\n",
       "      <td>0</td>\n",
       "      <td>4</td>\n",
       "      <td>2</td>\n",
       "      <td>3</td>\n",
       "      <td>0</td>\n",
       "      <td>0</td>\n",
       "      <td>44</td>\n",
       "      <td>0</td>\n",
       "      <td>1</td>\n",
       "    </tr>\n",
       "    <tr>\n",
       "      <th>1</th>\n",
       "      <td>1</td>\n",
       "      <td>0</td>\n",
       "      <td>4</td>\n",
       "      <td>5</td>\n",
       "      <td>2</td>\n",
       "      <td>0</td>\n",
       "      <td>1</td>\n",
       "      <td>59</td>\n",
       "      <td>1</td>\n",
       "      <td>1</td>\n",
       "    </tr>\n",
       "    <tr>\n",
       "      <th>2</th>\n",
       "      <td>2</td>\n",
       "      <td>0</td>\n",
       "      <td>2</td>\n",
       "      <td>2</td>\n",
       "      <td>4</td>\n",
       "      <td>0</td>\n",
       "      <td>1</td>\n",
       "      <td>48</td>\n",
       "      <td>2</td>\n",
       "      <td>1</td>\n",
       "    </tr>\n",
       "    <tr>\n",
       "      <th>3</th>\n",
       "      <td>3</td>\n",
       "      <td>0</td>\n",
       "      <td>3</td>\n",
       "      <td>3</td>\n",
       "      <td>4</td>\n",
       "      <td>1</td>\n",
       "      <td>1</td>\n",
       "      <td>10</td>\n",
       "      <td>3</td>\n",
       "      <td>1</td>\n",
       "    </tr>\n",
       "    <tr>\n",
       "      <th>4</th>\n",
       "      <td>4</td>\n",
       "      <td>0</td>\n",
       "      <td>2</td>\n",
       "      <td>2</td>\n",
       "      <td>3</td>\n",
       "      <td>1</td>\n",
       "      <td>0</td>\n",
       "      <td>46</td>\n",
       "      <td>4</td>\n",
       "      <td>1</td>\n",
       "    </tr>\n",
       "    <tr>\n",
       "      <th>...</th>\n",
       "      <td>...</td>\n",
       "      <td>...</td>\n",
       "      <td>...</td>\n",
       "      <td>...</td>\n",
       "      <td>...</td>\n",
       "      <td>...</td>\n",
       "      <td>...</td>\n",
       "      <td>...</td>\n",
       "      <td>...</td>\n",
       "      <td>...</td>\n",
       "    </tr>\n",
       "    <tr>\n",
       "      <th>10994</th>\n",
       "      <td>2</td>\n",
       "      <td>1</td>\n",
       "      <td>4</td>\n",
       "      <td>1</td>\n",
       "      <td>5</td>\n",
       "      <td>1</td>\n",
       "      <td>0</td>\n",
       "      <td>1</td>\n",
       "      <td>1065</td>\n",
       "      <td>1</td>\n",
       "    </tr>\n",
       "    <tr>\n",
       "      <th>10995</th>\n",
       "      <td>3</td>\n",
       "      <td>1</td>\n",
       "      <td>4</td>\n",
       "      <td>1</td>\n",
       "      <td>5</td>\n",
       "      <td>1</td>\n",
       "      <td>0</td>\n",
       "      <td>6</td>\n",
       "      <td>595</td>\n",
       "      <td>0</td>\n",
       "    </tr>\n",
       "    <tr>\n",
       "      <th>10996</th>\n",
       "      <td>4</td>\n",
       "      <td>1</td>\n",
       "      <td>5</td>\n",
       "      <td>4</td>\n",
       "      <td>5</td>\n",
       "      <td>0</td>\n",
       "      <td>0</td>\n",
       "      <td>4</td>\n",
       "      <td>1093</td>\n",
       "      <td>0</td>\n",
       "    </tr>\n",
       "    <tr>\n",
       "      <th>10997</th>\n",
       "      <td>1</td>\n",
       "      <td>1</td>\n",
       "      <td>5</td>\n",
       "      <td>2</td>\n",
       "      <td>6</td>\n",
       "      <td>1</td>\n",
       "      <td>1</td>\n",
       "      <td>2</td>\n",
       "      <td>938</td>\n",
       "      <td>0</td>\n",
       "    </tr>\n",
       "    <tr>\n",
       "      <th>10998</th>\n",
       "      <td>0</td>\n",
       "      <td>1</td>\n",
       "      <td>2</td>\n",
       "      <td>5</td>\n",
       "      <td>5</td>\n",
       "      <td>0</td>\n",
       "      <td>0</td>\n",
       "      <td>6</td>\n",
       "      <td>238</td>\n",
       "      <td>0</td>\n",
       "    </tr>\n",
       "  </tbody>\n",
       "</table>\n",
       "<p>10999 rows × 10 columns</p>\n",
       "</div>"
      ],
      "text/plain": [
       "       Warehouse_block  Mode_of_Shipment  Customer_care_calls  \\\n",
       "0                    0                 0                    4   \n",
       "1                    1                 0                    4   \n",
       "2                    2                 0                    2   \n",
       "3                    3                 0                    3   \n",
       "4                    4                 0                    2   \n",
       "...                ...               ...                  ...   \n",
       "10994                2                 1                    4   \n",
       "10995                3                 1                    4   \n",
       "10996                4                 1                    5   \n",
       "10997                1                 1                    5   \n",
       "10998                0                 1                    2   \n",
       "\n",
       "       Customer_rating  Prior_purchases  Product_importance  Gender  \\\n",
       "0                    2                3                   0       0   \n",
       "1                    5                2                   0       1   \n",
       "2                    2                4                   0       1   \n",
       "3                    3                4                   1       1   \n",
       "4                    2                3                   1       0   \n",
       "...                ...              ...                 ...     ...   \n",
       "10994                1                5                   1       0   \n",
       "10995                1                5                   1       0   \n",
       "10996                4                5                   0       0   \n",
       "10997                2                6                   1       1   \n",
       "10998                5                5                   0       0   \n",
       "\n",
       "       Discount_offered  Weight_in_gms  ON_TIME  \n",
       "0                    44              0        1  \n",
       "1                    59              1        1  \n",
       "2                    48              2        1  \n",
       "3                    10              3        1  \n",
       "4                    46              4        1  \n",
       "...                 ...            ...      ...  \n",
       "10994                 1           1065        1  \n",
       "10995                 6            595        0  \n",
       "10996                 4           1093        0  \n",
       "10997                 2            938        0  \n",
       "10998                 6            238        0  \n",
       "\n",
       "[10999 rows x 10 columns]"
      ]
     },
     "execution_count": 46,
     "metadata": {},
     "output_type": "execute_result"
    }
   ],
   "source": [
    "df_en"
   ]
  },
  {
   "cell_type": "markdown",
   "id": "84b0a31c",
   "metadata": {},
   "source": [
    "# Train Test Split"
   ]
  },
  {
   "cell_type": "code",
   "execution_count": 47,
   "id": "5285ad12",
   "metadata": {},
   "outputs": [
    {
     "data": {
      "text/plain": [
       "((9899, 8), (9899,))"
      ]
     },
     "execution_count": 47,
     "metadata": {},
     "output_type": "execute_result"
    }
   ],
   "source": [
    "x = df_en[['Warehouse_block', 'Mode_of_Shipment', 'Customer_care_calls',\n",
    "       'Customer_rating', 'Prior_purchases',\n",
    "       'Product_importance', 'Gender', 'Discount_offered']]\n",
    "y = df_en['ON_TIME']\n",
    "\n",
    "x_train,x_test,y_train,y_test=train_test_split(x,y,test_size=.1)\n",
    "x_train.shape, y_train.shape"
   ]
  },
  {
   "cell_type": "code",
   "execution_count": 48,
   "id": "36fbe447",
   "metadata": {},
   "outputs": [],
   "source": [
    "from sklearn.preprocessing import StandardScaler"
   ]
  },
  {
   "cell_type": "code",
   "execution_count": 49,
   "id": "dde0a882",
   "metadata": {},
   "outputs": [],
   "source": [
    "scaler= StandardScaler()"
   ]
  },
  {
   "cell_type": "code",
   "execution_count": 50,
   "id": "c618f5f5",
   "metadata": {},
   "outputs": [],
   "source": [
    "x_train = scaler.fit_transform(x_train)"
   ]
  },
  {
   "cell_type": "code",
   "execution_count": 51,
   "id": "9d43715b",
   "metadata": {},
   "outputs": [
    {
     "data": {
      "text/plain": [
       "array([[ 1.61207128,  0.00465025, -0.05325768, ..., -0.93992605,\n",
       "         1.0082164 , -0.45416197],\n",
       "       [-1.36751021,  0.00465025, -0.92754924, ...,  0.61989423,\n",
       "         1.0082164 , -0.39210884],\n",
       "       [ 0.12228053,  1.77514358, -0.92754924, ..., -0.93992605,\n",
       "         1.0082164 , -0.26800258],\n",
       "       ...,\n",
       "       [ 1.61207128,  0.00465025, -0.92754924, ...,  2.17971451,\n",
       "         1.0082164 , -0.70237449],\n",
       "       [-0.62261484,  1.77514358, -0.92754924, ..., -0.93992605,\n",
       "        -0.99185056, -0.39210884],\n",
       "       [ 0.12228053,  0.00465025, -0.92754924, ..., -0.93992605,\n",
       "        -0.99185056, -0.64032136]])"
      ]
     },
     "execution_count": 51,
     "metadata": {},
     "output_type": "execute_result"
    }
   ],
   "source": [
    "x_train"
   ]
  },
  {
   "cell_type": "code",
   "execution_count": 52,
   "id": "300a7d0c",
   "metadata": {},
   "outputs": [],
   "source": [
    "x_test=scaler.fit_transform(x_test)"
   ]
  },
  {
   "cell_type": "code",
   "execution_count": 53,
   "id": "ea57bcbc",
   "metadata": {},
   "outputs": [
    {
     "data": {
      "text/plain": [
       "array([[-0.59707344, -1.71774144, -0.89085555, ..., -0.9667324 ,\n",
       "        -0.99095004, -0.52184267],\n",
       "       [-0.59707344, -0.01394019, -1.7849624 , ...,  0.58568459,\n",
       "        -0.99095004, -0.46295603],\n",
       "       [ 0.1408825 ,  1.68986105, -0.89085555, ..., -0.9667324 ,\n",
       "        -0.99095004, -0.75738921],\n",
       "       ...,\n",
       "       [ 0.87883843, -0.01394019, -0.89085555, ..., -0.9667324 ,\n",
       "        -0.99095004,  1.8336228 ],\n",
       "       [-1.33502938,  1.68986105,  0.0032513 , ...,  2.13810158,\n",
       "        -0.99095004, -0.75738921],\n",
       "       [-1.33502938,  1.68986105, -0.89085555, ..., -0.9667324 ,\n",
       "        -0.99095004, -0.22740948]])"
      ]
     },
     "execution_count": 53,
     "metadata": {},
     "output_type": "execute_result"
    }
   ],
   "source": [
    "x_test"
   ]
  },
  {
   "cell_type": "code",
   "execution_count": 54,
   "id": "3d0f0639",
   "metadata": {},
   "outputs": [
    {
     "data": {
      "text/plain": [
       "65.8"
      ]
     },
     "execution_count": 54,
     "metadata": {},
     "output_type": "execute_result"
    }
   ],
   "source": [
    "#Prepare a Linear REgression Model\n",
    "L=LinearRegression()\n",
    "L.fit(x_train,y_train)\n",
    "y_pred=L.predict(x_test)\n",
    "from sklearn.metrics import r2_score\n",
    "r2_score(y_test,y_pred)\n",
    "accuracy_score(y_test,y_pred.round(),normalize=False)/10"
   ]
  },
  {
   "cell_type": "code",
   "execution_count": 55,
   "id": "8ead2da4",
   "metadata": {},
   "outputs": [
    {
     "name": "stdout",
     "output_type": "stream",
     "text": [
      "0.15576064627174202\n"
     ]
    }
   ],
   "source": [
    "print(r2_score(y_test,y_pred))"
   ]
  },
  {
   "cell_type": "code",
   "execution_count": 56,
   "id": "bd0401f7",
   "metadata": {},
   "outputs": [
    {
     "data": {
      "text/plain": [
       "68.8"
      ]
     },
     "execution_count": 56,
     "metadata": {},
     "output_type": "execute_result"
    }
   ],
   "source": [
    "#Prepairng a Decision Tree Regression\n",
    "from sklearn.tree import DecisionTreeRegressor\n",
    "x_train,x_test,y_train,y_test=train_test_split(x,y,test_size=.1)\n",
    "DTree=DecisionTreeRegressor(min_samples_leaf=.0001)\n",
    "DTree.fit(x_train,y_train)\n",
    "y_predict=DTree.predict(x_test)\n",
    "from sklearn.metrics import r2_score\n",
    "r2_score(y_test,y_predict)\n",
    "accuracy_score(y_test,y_predict.round(),normalize=False)/10"
   ]
  },
  {
   "cell_type": "code",
   "execution_count": 57,
   "id": "414cff2e",
   "metadata": {},
   "outputs": [
    {
     "data": {
      "text/plain": [
       "(1100,)"
      ]
     },
     "execution_count": 57,
     "metadata": {},
     "output_type": "execute_result"
    }
   ],
   "source": [
    "y_test.shape"
   ]
  },
  {
   "cell_type": "code",
   "execution_count": 58,
   "id": "e7c3b53a",
   "metadata": {},
   "outputs": [
    {
     "data": {
      "text/plain": [
       "(1100,)"
      ]
     },
     "execution_count": 58,
     "metadata": {},
     "output_type": "execute_result"
    }
   ],
   "source": [
    "y_predict.shape\n"
   ]
  },
  {
   "cell_type": "code",
   "execution_count": 59,
   "id": "64168054",
   "metadata": {},
   "outputs": [
    {
     "data": {
      "text/plain": [
       "66.5"
      ]
     },
     "execution_count": 59,
     "metadata": {},
     "output_type": "execute_result"
    }
   ],
   "source": [
    "L=LogisticRegression()\n",
    "L.fit(x_train,y_train)\n",
    "y_pred2=L.predict(x_test)\n",
    "from sklearn.metrics import r2_score\n",
    "r2_score(y_test,y_pred2)\n",
    "accuracy_score(y_test,y_pred2.round(),normalize=False)/10"
   ]
  },
  {
   "cell_type": "code",
   "execution_count": 64,
   "id": "1e794724",
   "metadata": {},
   "outputs": [
    {
     "name": "stdout",
     "output_type": "stream",
     "text": [
      "              precision    recall  f1-score   support\n",
      "\n",
      "           0       0.54      0.55      0.55       452\n",
      "           1       0.68      0.68      0.68       648\n",
      "\n",
      "    accuracy                           0.63      1100\n",
      "   macro avg       0.61      0.61      0.61      1100\n",
      "weighted avg       0.63      0.63      0.63      1100\n",
      "\n"
     ]
    }
   ],
   "source": [
    "print(classification_report(y_test,y_predict.round()))"
   ]
  },
  {
   "cell_type": "code",
   "execution_count": 61,
   "id": "838125cc",
   "metadata": {},
   "outputs": [
    {
     "data": {
      "text/plain": [
       "['Capston.pkl']"
      ]
     },
     "execution_count": 61,
     "metadata": {},
     "output_type": "execute_result"
    }
   ],
   "source": [
    "import joblib\n",
    "joblib.dump(DTree, \"Capston.pkl\")"
   ]
  },
  {
   "cell_type": "code",
   "execution_count": 62,
   "id": "58fe4da3",
   "metadata": {},
   "outputs": [],
   "source": [
    "model = joblib.load(\"Capston.pkl\")"
   ]
  },
  {
   "cell_type": "code",
   "execution_count": 63,
   "id": "0ef19538",
   "metadata": {},
   "outputs": [
    {
     "data": {
      "text/plain": [
       "DecisionTreeRegressor(min_samples_leaf=0.0001)"
      ]
     },
     "execution_count": 63,
     "metadata": {},
     "output_type": "execute_result"
    }
   ],
   "source": [
    "model"
   ]
  }
 ],
 "metadata": {
  "kernelspec": {
   "display_name": "Python 3",
   "language": "python",
   "name": "python3"
  },
  "language_info": {
   "codemirror_mode": {
    "name": "ipython",
    "version": 3
   },
   "file_extension": ".py",
   "mimetype": "text/x-python",
   "name": "python",
   "nbconvert_exporter": "python",
   "pygments_lexer": "ipython3",
   "version": "3.8.8"
  }
 },
 "nbformat": 4,
 "nbformat_minor": 5
}
